{
 "cells": [
  {
   "metadata": {},
   "cell_type": "markdown",
   "source": "# Check APIs",
   "id": "df7481815f53806e"
  },
  {
   "metadata": {
    "collapsed": true,
    "ExecuteTime": {
     "end_time": "2024-09-09T20:42:31.719778Z",
     "start_time": "2024-09-09T20:42:31.708148Z"
    }
   },
   "cell_type": "code",
   "source": [
    "import cityflow\n",
    "import webbrowser\n",
    "import json"
   ],
   "id": "initial_id",
   "outputs": [],
   "execution_count": 1
  },
  {
   "metadata": {},
   "cell_type": "markdown",
   "source": "## API for Environment",
   "id": "7ab2e3dcaaec10b0"
  },
  {
   "metadata": {
    "ExecuteTime": {
     "end_time": "2024-09-09T20:42:31.769314Z",
     "start_time": "2024-09-09T20:42:31.755457Z"
    }
   },
   "cell_type": "code",
   "source": [
    "config_path = \"config/configRl.json\"\n",
    "env = cityflow.Engine(config_path, thread_num=1)\n",
    "for i in range(5):\n",
    "    env.next_step()"
   ],
   "id": "6ffb90ff9523135e",
   "outputs": [],
   "execution_count": 2
  },
  {
   "metadata": {
    "ExecuteTime": {
     "end_time": "2024-09-09T20:42:31.920323Z",
     "start_time": "2024-09-09T20:42:31.909300Z"
    }
   },
   "cell_type": "code",
   "source": [
    "# env.get_vehicles()\n",
    "env.get_lane_vehicles() # each car's name is flow_numOfFlow_numOfVehicles"
   ],
   "id": "ea4db8614575d0ea",
   "outputs": [
    {
     "data": {
      "text/plain": [
       "{'road_0_1_0_0': ['flow_5_0', 'flow_5_1'],\n",
       " 'road_0_1_0_1': ['flow_0_0', 'flow_0_1'],\n",
       " 'road_0_1_0_2': ['flow_8_0', 'flow_8_1'],\n",
       " 'road_1_0_1_0': ['flow_11_0', 'flow_11_1'],\n",
       " 'road_1_0_1_1': ['flow_2_0', 'flow_2_1'],\n",
       " 'road_1_0_1_2': ['flow_4_0', 'flow_4_1'],\n",
       " 'road_1_1_0_0': [],\n",
       " 'road_1_1_0_1': [],\n",
       " 'road_1_1_0_2': [],\n",
       " 'road_1_1_1_0': [],\n",
       " 'road_1_1_1_1': [],\n",
       " 'road_1_1_1_2': [],\n",
       " 'road_1_1_2_0': [],\n",
       " 'road_1_1_2_1': [],\n",
       " 'road_1_1_2_2': [],\n",
       " 'road_1_1_3_0': [],\n",
       " 'road_1_1_3_1': [],\n",
       " 'road_1_1_3_2': [],\n",
       " 'road_1_2_3_0': ['flow_9_0', 'flow_9_1'],\n",
       " 'road_1_2_3_1': ['flow_3_0', 'flow_3_1'],\n",
       " 'road_1_2_3_2': ['flow_7_0', 'flow_7_1'],\n",
       " 'road_2_1_2_0': ['flow_6_0', 'flow_6_1'],\n",
       " 'road_2_1_2_1': ['flow_1_0', 'flow_1_1'],\n",
       " 'road_2_1_2_2': ['flow_10_0', 'flow_10_1']}"
      ]
     },
     "execution_count": 3,
     "metadata": {},
     "output_type": "execute_result"
    }
   ],
   "execution_count": 3
  },
  {
   "metadata": {
    "ExecuteTime": {
     "end_time": "2024-09-09T20:42:32.036737Z",
     "start_time": "2024-09-09T20:42:32.029903Z"
    }
   },
   "cell_type": "code",
   "source": [
    "random_car = env.get_vehicles()[0]\n",
    "env.get_vehicle_info(random_car)"
   ],
   "id": "43dc77973a5ca4e8",
   "outputs": [
    {
     "data": {
      "text/plain": [
       "{'distance': '25.000000',\n",
       " 'drivable': 'road_1_2_3_0',\n",
       " 'intersection': 'intersection_1_1',\n",
       " 'road': 'road_1_2_3',\n",
       " 'route': 'road_1_2_3 road_1_1_0 ',\n",
       " 'running': '1',\n",
       " 'speed': '10.000000'}"
      ]
     },
     "execution_count": 4,
     "metadata": {},
     "output_type": "execute_result"
    }
   ],
   "execution_count": 4
  },
  {
   "metadata": {},
   "cell_type": "markdown",
   "source": "## API for RL",
   "id": "803ee5d322add6cb"
  },
  {
   "metadata": {
    "ExecuteTime": {
     "end_time": "2024-09-09T20:42:32.167981Z",
     "start_time": "2024-09-09T20:42:32.158862Z"
    }
   },
   "cell_type": "code",
   "source": [
    "with open(config_path, 'r') as cf:\n",
    "    conf = json.load(cf)\n",
    "roadnet_path = conf.get('dir') + conf.get('roadnetFile')\n",
    "\n",
    "with open(roadnet_path, 'r') as rf:\n",
    "    roadnet = json.load(rf)\n",
    "real_intersect = [x for x in roadnet.get('intersections') if x['virtual']==False] # exclude inteserctions on borders\n",
    "light_phases = real_intersect[0].get('trafficLight').get('lightphases') # retrieve actions\n",
    "id_intersect = real_intersect[0].get('id')"
   ],
   "id": "cb5dc04c6cf3ba07",
   "outputs": [],
   "execution_count": 5
  },
  {
   "metadata": {
    "ExecuteTime": {
     "end_time": "2024-09-09T20:42:32.516994Z",
     "start_time": "2024-09-09T20:42:32.215205Z"
    }
   },
   "cell_type": "code",
   "source": [
    "# change traffic lights' lights\n",
    "for action in range(len(light_phases)):\n",
    "    env.set_tl_phase(id_intersect, action)\n",
    "    for i in range(50):\n",
    "        env.next_step()"
   ],
   "id": "3fda218a664978b",
   "outputs": [],
   "execution_count": 6
  },
  {
   "metadata": {
    "ExecuteTime": {
     "end_time": "2024-09-09T20:42:32.533785Z",
     "start_time": "2024-09-09T20:42:32.530356Z"
    }
   },
   "cell_type": "code",
   "source": [
    "# save snapshot in archive object or file\n",
    "# archive = env.snapshot()\n",
    "# archive.dump(\"snapshot.json\")"
   ],
   "id": "14a814280c6955dd",
   "outputs": [],
   "execution_count": 7
  },
  {
   "metadata": {
    "ExecuteTime": {
     "end_time": "2024-09-09T20:42:32.588588Z",
     "start_time": "2024-09-09T20:42:32.585200Z"
    }
   },
   "cell_type": "code",
   "source": [
    "# retrieve snapshot from archive or file\n",
    "# env.load(archive)\n",
    "# env.load_from_file(\"examples/snapshot.json\")"
   ],
   "id": "be7f08bca7120bb1",
   "outputs": [],
   "execution_count": 8
  },
  {
   "metadata": {},
   "cell_type": "markdown",
   "source": "## Visualize CityFlow",
   "id": "41bc5838c0140a99"
  },
  {
   "metadata": {
    "ExecuteTime": {
     "end_time": "2024-09-09T20:42:33.119716Z",
     "start_time": "2024-09-09T20:42:32.628418Z"
    }
   },
   "cell_type": "code",
   "source": "url = webbrowser.open(\"http://localhost:63342/CityFlow/frontend/index.html?_ijt=bmt8r6vo8kvu7a05mgbq8j7oln&_ij_reload=RELOAD_ON_SAVE\")",
   "id": "210ca04a5fa6592f",
   "outputs": [],
   "execution_count": 9
  }
 ],
 "metadata": {
  "kernelspec": {
   "display_name": "Python 3",
   "language": "python",
   "name": "python3"
  },
  "language_info": {
   "codemirror_mode": {
    "name": "ipython",
    "version": 2
   },
   "file_extension": ".py",
   "mimetype": "text/x-python",
   "name": "python",
   "nbconvert_exporter": "python",
   "pygments_lexer": "ipython2",
   "version": "2.7.6"
  }
 },
 "nbformat": 4,
 "nbformat_minor": 5
}
