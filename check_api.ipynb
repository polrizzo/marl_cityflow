{
 "cells": [
  {
   "metadata": {},
   "cell_type": "markdown",
   "source": "# Check APIs",
   "id": "df7481815f53806e"
  },
  {
   "metadata": {
    "collapsed": true,
    "ExecuteTime": {
     "end_time": "2024-09-09T18:29:57.248437Z",
     "start_time": "2024-09-09T18:29:57.230444Z"
    }
   },
   "cell_type": "code",
   "source": [
    "import cityflow\n",
    "import webbrowser\n",
    "from utils.utils_env import *"
   ],
   "id": "initial_id",
   "outputs": [],
   "execution_count": 1
  },
  {
   "metadata": {},
   "cell_type": "markdown",
   "source": "## API for Environment",
   "id": "7ab2e3dcaaec10b0"
  },
  {
   "metadata": {
    "ExecuteTime": {
     "end_time": "2024-09-09T18:05:57.145394Z",
     "start_time": "2024-09-09T18:05:57.103861Z"
    }
   },
   "cell_type": "code",
   "source": [
    "config_path = \"config/configRl.json\"\n",
    "env = cityflow.Engine(config_path, thread_num=1)\n",
    "for i in range(50):\n",
    "    env.next_step()"
   ],
   "id": "6ffb90ff9523135e",
   "outputs": [],
   "execution_count": 2
  },
  {
   "metadata": {
    "ExecuteTime": {
     "end_time": "2024-09-09T18:05:57.565086Z",
     "start_time": "2024-09-09T18:05:57.545340Z"
    }
   },
   "cell_type": "code",
   "source": [
    "# env.get_vehicles()\n",
    "env.get_lane_vehicles() # each car's name is flow_numOfFlow_numOfVehicles"
   ],
   "id": "ea4db8614575d0ea",
   "outputs": [
    {
     "data": {
      "text/plain": [
       "{'road_0_1_0_0': ['flow_5_0',\n",
       "  'flow_5_1',\n",
       "  'flow_5_2',\n",
       "  'flow_5_3',\n",
       "  'flow_5_4',\n",
       "  'flow_5_5',\n",
       "  'flow_5_6',\n",
       "  'flow_5_7',\n",
       "  'flow_5_8',\n",
       "  'flow_5_9',\n",
       "  'flow_5_10',\n",
       "  'flow_5_11',\n",
       "  'flow_5_12',\n",
       "  'flow_5_13',\n",
       "  'flow_5_14',\n",
       "  'flow_5_15',\n",
       "  'flow_5_16'],\n",
       " 'road_0_1_0_1': ['flow_0_0',\n",
       "  'flow_0_1',\n",
       "  'flow_0_2',\n",
       "  'flow_0_3',\n",
       "  'flow_0_4',\n",
       "  'flow_0_5',\n",
       "  'flow_0_6',\n",
       "  'flow_0_7',\n",
       "  'flow_0_8',\n",
       "  'flow_0_9',\n",
       "  'flow_0_10',\n",
       "  'flow_0_11',\n",
       "  'flow_0_12',\n",
       "  'flow_0_13',\n",
       "  'flow_0_14',\n",
       "  'flow_0_15',\n",
       "  'flow_0_16'],\n",
       " 'road_0_1_0_2': ['flow_8_9',\n",
       "  'flow_8_10',\n",
       "  'flow_8_11',\n",
       "  'flow_8_12',\n",
       "  'flow_8_13',\n",
       "  'flow_8_14',\n",
       "  'flow_8_15',\n",
       "  'flow_8_16'],\n",
       " 'road_1_0_1_0': ['flow_11_0',\n",
       "  'flow_11_1',\n",
       "  'flow_11_2',\n",
       "  'flow_11_3',\n",
       "  'flow_11_4',\n",
       "  'flow_11_5',\n",
       "  'flow_11_6',\n",
       "  'flow_11_7',\n",
       "  'flow_11_8',\n",
       "  'flow_11_9',\n",
       "  'flow_11_10',\n",
       "  'flow_11_11',\n",
       "  'flow_11_12',\n",
       "  'flow_11_13',\n",
       "  'flow_11_14',\n",
       "  'flow_11_15',\n",
       "  'flow_11_16'],\n",
       " 'road_1_0_1_1': ['flow_2_0',\n",
       "  'flow_2_1',\n",
       "  'flow_2_2',\n",
       "  'flow_2_3',\n",
       "  'flow_2_4',\n",
       "  'flow_2_5',\n",
       "  'flow_2_6',\n",
       "  'flow_2_7',\n",
       "  'flow_2_8',\n",
       "  'flow_2_9',\n",
       "  'flow_2_10',\n",
       "  'flow_2_11',\n",
       "  'flow_2_12',\n",
       "  'flow_2_13',\n",
       "  'flow_2_14',\n",
       "  'flow_2_15',\n",
       "  'flow_2_16'],\n",
       " 'road_1_0_1_2': ['flow_4_9',\n",
       "  'flow_4_10',\n",
       "  'flow_4_11',\n",
       "  'flow_4_12',\n",
       "  'flow_4_13',\n",
       "  'flow_4_14',\n",
       "  'flow_4_15',\n",
       "  'flow_4_16'],\n",
       " 'road_1_1_0_0': [],\n",
       " 'road_1_1_0_1': [],\n",
       " 'road_1_1_0_2': ['flow_4_3', 'flow_4_4', 'flow_4_5', 'flow_4_6', 'flow_4_7'],\n",
       " 'road_1_1_1_0': [],\n",
       " 'road_1_1_1_1': [],\n",
       " 'road_1_1_1_2': ['flow_10_3',\n",
       "  'flow_10_4',\n",
       "  'flow_10_5',\n",
       "  'flow_10_6',\n",
       "  'flow_10_7'],\n",
       " 'road_1_1_2_0': [],\n",
       " 'road_1_1_2_1': [],\n",
       " 'road_1_1_2_2': ['flow_7_3', 'flow_7_4', 'flow_7_5', 'flow_7_6', 'flow_7_7'],\n",
       " 'road_1_1_3_0': [],\n",
       " 'road_1_1_3_1': [],\n",
       " 'road_1_1_3_2': ['flow_8_3', 'flow_8_4', 'flow_8_5', 'flow_8_6', 'flow_8_7'],\n",
       " 'road_1_2_3_0': ['flow_9_0',\n",
       "  'flow_9_1',\n",
       "  'flow_9_2',\n",
       "  'flow_9_3',\n",
       "  'flow_9_4',\n",
       "  'flow_9_5',\n",
       "  'flow_9_6',\n",
       "  'flow_9_7',\n",
       "  'flow_9_8',\n",
       "  'flow_9_9',\n",
       "  'flow_9_10',\n",
       "  'flow_9_11',\n",
       "  'flow_9_12',\n",
       "  'flow_9_13',\n",
       "  'flow_9_14',\n",
       "  'flow_9_15',\n",
       "  'flow_9_16'],\n",
       " 'road_1_2_3_1': ['flow_3_0',\n",
       "  'flow_3_1',\n",
       "  'flow_3_2',\n",
       "  'flow_3_3',\n",
       "  'flow_3_4',\n",
       "  'flow_3_5',\n",
       "  'flow_3_6',\n",
       "  'flow_3_7',\n",
       "  'flow_3_8',\n",
       "  'flow_3_9',\n",
       "  'flow_3_10',\n",
       "  'flow_3_11',\n",
       "  'flow_3_12',\n",
       "  'flow_3_13',\n",
       "  'flow_3_14',\n",
       "  'flow_3_15',\n",
       "  'flow_3_16'],\n",
       " 'road_1_2_3_2': ['flow_7_9',\n",
       "  'flow_7_10',\n",
       "  'flow_7_11',\n",
       "  'flow_7_12',\n",
       "  'flow_7_13',\n",
       "  'flow_7_14',\n",
       "  'flow_7_15',\n",
       "  'flow_7_16'],\n",
       " 'road_2_1_2_0': ['flow_6_0',\n",
       "  'flow_6_1',\n",
       "  'flow_6_2',\n",
       "  'flow_6_3',\n",
       "  'flow_6_4',\n",
       "  'flow_6_5',\n",
       "  'flow_6_6',\n",
       "  'flow_6_7',\n",
       "  'flow_6_8',\n",
       "  'flow_6_9',\n",
       "  'flow_6_10',\n",
       "  'flow_6_11',\n",
       "  'flow_6_12',\n",
       "  'flow_6_13',\n",
       "  'flow_6_14',\n",
       "  'flow_6_15',\n",
       "  'flow_6_16'],\n",
       " 'road_2_1_2_1': ['flow_1_0',\n",
       "  'flow_1_1',\n",
       "  'flow_1_2',\n",
       "  'flow_1_3',\n",
       "  'flow_1_4',\n",
       "  'flow_1_5',\n",
       "  'flow_1_6',\n",
       "  'flow_1_7',\n",
       "  'flow_1_8',\n",
       "  'flow_1_9',\n",
       "  'flow_1_10',\n",
       "  'flow_1_11',\n",
       "  'flow_1_12',\n",
       "  'flow_1_13',\n",
       "  'flow_1_14',\n",
       "  'flow_1_15',\n",
       "  'flow_1_16'],\n",
       " 'road_2_1_2_2': ['flow_10_9',\n",
       "  'flow_10_10',\n",
       "  'flow_10_11',\n",
       "  'flow_10_12',\n",
       "  'flow_10_13',\n",
       "  'flow_10_14',\n",
       "  'flow_10_15',\n",
       "  'flow_10_16']}"
      ]
     },
     "execution_count": 3,
     "metadata": {},
     "output_type": "execute_result"
    }
   ],
   "execution_count": 3
  },
  {
   "metadata": {
    "ExecuteTime": {
     "end_time": "2024-09-09T18:05:58.128387Z",
     "start_time": "2024-09-09T18:05:58.120386Z"
    }
   },
   "cell_type": "code",
   "source": [
    "random_car = env.get_vehicles()[0]\n",
    "env.get_vehicle_info(random_car)"
   ],
   "id": "43dc77973a5ca4e8",
   "outputs": [
    {
     "data": {
      "text/plain": [
       "{'distance': '239.346497',\n",
       " 'drivable': 'road_0_1_0_2',\n",
       " 'intersection': 'intersection_1_1',\n",
       " 'road': 'road_0_1_0',\n",
       " 'route': 'road_0_1_0 road_1_1_3 ',\n",
       " 'running': '1',\n",
       " 'speed': '8.333300'}"
      ]
     },
     "execution_count": 4,
     "metadata": {},
     "output_type": "execute_result"
    }
   ],
   "execution_count": 4
  },
  {
   "metadata": {},
   "cell_type": "markdown",
   "source": "## API for RL",
   "id": "803ee5d322add6cb"
  },
  {
   "metadata": {
    "ExecuteTime": {
     "end_time": "2024-09-09T18:06:00.217203Z",
     "start_time": "2024-09-09T18:06:00.208861Z"
    }
   },
   "cell_type": "code",
   "source": [
    "with open(config_path, 'r') as cf:\n",
    "    conf = json.load(cf)\n",
    "roadnet_path = conf.get('dir') + conf.get('roadnetFile')\n",
    "\n",
    "with open(roadnet_path, 'r') as rf:\n",
    "    roadnet = json.load(rf)\n",
    "real_intersect = [x for x in roadnet.get('intersections') if x['virtual']==False] # exclude inteserctions on borders\n",
    "light_phases = real_intersect[0].get('trafficLight').get('lightphases') # retrieve actions\n",
    "id_intersect = real_intersect[0].get('id')"
   ],
   "id": "cb5dc04c6cf3ba07",
   "outputs": [],
   "execution_count": 5
  },
  {
   "metadata": {
    "ExecuteTime": {
     "end_time": "2024-09-09T18:06:01.907077Z",
     "start_time": "2024-09-09T18:06:01.560322Z"
    }
   },
   "cell_type": "code",
   "source": [
    "# change traffic lights' lights\n",
    "for action in range(len(light_phases)):\n",
    "    env.set_tl_phase(id_intersect, action)\n",
    "    for i in range(50):\n",
    "        env.next_step()"
   ],
   "id": "3fda218a664978b",
   "outputs": [],
   "execution_count": 6
  },
  {
   "metadata": {
    "ExecuteTime": {
     "end_time": "2024-09-09T18:23:06.439760Z",
     "start_time": "2024-09-09T18:23:06.423782Z"
    }
   },
   "cell_type": "code",
   "source": [
    "# save snapshot in archive object or file\n",
    "# archive = env.snapshot()\n",
    "# archive.dump(\"snapshot.json\")"
   ],
   "id": "14a814280c6955dd",
   "outputs": [],
   "execution_count": 2
  },
  {
   "metadata": {
    "ExecuteTime": {
     "end_time": "2024-09-09T18:30:05.531889Z",
     "start_time": "2024-09-09T18:30:05.493051Z"
    }
   },
   "cell_type": "code",
   "source": [
    "# retrieve snapshot from archive or file\n",
    "# env.load(archive)\n",
    "# env.load_from_file(\"examples/snapshot.json\")"
   ],
   "id": "be7f08bca7120bb1",
   "outputs": [],
   "execution_count": 2
  },
  {
   "metadata": {},
   "cell_type": "markdown",
   "source": "## Visualize CityFlow",
   "id": "41bc5838c0140a99"
  },
  {
   "metadata": {
    "ExecuteTime": {
     "end_time": "2024-09-09T18:30:14.720061Z",
     "start_time": "2024-09-09T18:30:14.043471Z"
    }
   },
   "cell_type": "code",
   "source": "url = webbrowser.open(\"http://localhost:63342/CityFlow/frontend/index.html?_ijt=bmt8r6vo8kvu7a05mgbq8j7oln&_ij_reload=RELOAD_ON_SAVE\")",
   "id": "210ca04a5fa6592f",
   "outputs": [],
   "execution_count": 3
  }
 ],
 "metadata": {
  "kernelspec": {
   "display_name": "Python 3",
   "language": "python",
   "name": "python3"
  },
  "language_info": {
   "codemirror_mode": {
    "name": "ipython",
    "version": 2
   },
   "file_extension": ".py",
   "mimetype": "text/x-python",
   "name": "python",
   "nbconvert_exporter": "python",
   "pygments_lexer": "ipython2",
   "version": "2.7.6"
  }
 },
 "nbformat": 4,
 "nbformat_minor": 5
}
