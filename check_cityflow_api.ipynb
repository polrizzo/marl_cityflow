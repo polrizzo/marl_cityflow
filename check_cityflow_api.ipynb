{
 "cells": [
  {
   "metadata": {},
   "cell_type": "markdown",
   "source": "# Check APIs",
   "id": "df7481815f53806e"
  },
  {
   "metadata": {
    "collapsed": true,
    "ExecuteTime": {
     "end_time": "2024-10-06T17:13:50.670098Z",
     "start_time": "2024-10-06T17:13:50.661386Z"
    }
   },
   "cell_type": "code",
   "source": [
    "import cityflow\n",
    "import json"
   ],
   "id": "initial_id",
   "outputs": [],
   "execution_count": 19
  },
  {
   "metadata": {},
   "cell_type": "markdown",
   "source": "## CityFlow Engine",
   "id": "7ab2e3dcaaec10b0"
  },
  {
   "metadata": {
    "ExecuteTime": {
     "end_time": "2024-10-06T16:26:30.071607Z",
     "start_time": "2024-10-06T16:26:30.040503Z"
    }
   },
   "cell_type": "code",
   "source": [
    "config_path = \"data/2024-10-06_19-26/cityflow1x2.json\"\n",
    "env = cityflow.Engine(config_path, thread_num=1)\n",
    "for i in range(10):\n",
    "    env.next_step()"
   ],
   "id": "6ffb90ff9523135e",
   "outputs": [],
   "execution_count": 2
  },
  {
   "metadata": {
    "ExecuteTime": {
     "end_time": "2024-10-06T16:26:30.116345Z",
     "start_time": "2024-10-06T16:26:30.094013Z"
    }
   },
   "cell_type": "code",
   "source": [
    "# env.get_vehicles()\n",
    "env.get_lane_vehicles() # each car's name is flow_numOfFlow_numOfVehicles"
   ],
   "id": "ea4db8614575d0ea",
   "outputs": [
    {
     "data": {
      "text/plain": [
       "{'road_0_1_0_0': ['flow_13_0', 'flow_13_1', 'flow_13_2', 'flow_13_3'],\n",
       " 'road_0_1_0_1': ['flow_0_0', 'flow_0_1', 'flow_0_2', 'flow_0_3'],\n",
       " 'road_0_1_0_2': [],\n",
       " 'road_0_2_0_0': [],\n",
       " 'road_0_2_0_1': ['flow_2_0', 'flow_2_1', 'flow_2_2', 'flow_2_3'],\n",
       " 'road_0_2_0_2': [],\n",
       " 'road_0_3_0_0': [],\n",
       " 'road_0_3_0_1': ['flow_4_0', 'flow_4_1', 'flow_4_2', 'flow_4_3'],\n",
       " 'road_0_3_0_2': ['flow_16_0', 'flow_16_1', 'flow_16_2', 'flow_16_3'],\n",
       " 'road_1_0_1_0': [],\n",
       " 'road_1_0_1_1': ['flow_6_0', 'flow_6_1', 'flow_6_2', 'flow_6_3'],\n",
       " 'road_1_0_1_2': ['flow_12_0', 'flow_12_1', 'flow_12_2', 'flow_12_3'],\n",
       " 'road_1_1_0_0': [],\n",
       " 'road_1_1_0_1': [],\n",
       " 'road_1_1_0_2': [],\n",
       " 'road_1_1_1_0': [],\n",
       " 'road_1_1_1_1': [],\n",
       " 'road_1_1_1_2': [],\n",
       " 'road_1_1_2_0': [],\n",
       " 'road_1_1_2_1': [],\n",
       " 'road_1_1_2_2': [],\n",
       " 'road_1_1_3_0': [],\n",
       " 'road_1_1_3_1': [],\n",
       " 'road_1_1_3_2': [],\n",
       " 'road_1_2_0_0': [],\n",
       " 'road_1_2_0_1': [],\n",
       " 'road_1_2_0_2': [],\n",
       " 'road_1_2_1_0': [],\n",
       " 'road_1_2_1_1': [],\n",
       " 'road_1_2_1_2': [],\n",
       " 'road_1_2_2_0': [],\n",
       " 'road_1_2_2_1': [],\n",
       " 'road_1_2_2_2': [],\n",
       " 'road_1_2_3_0': [],\n",
       " 'road_1_2_3_1': [],\n",
       " 'road_1_2_3_2': [],\n",
       " 'road_1_3_0_0': [],\n",
       " 'road_1_3_0_1': [],\n",
       " 'road_1_3_0_2': [],\n",
       " 'road_1_3_1_0': [],\n",
       " 'road_1_3_1_1': [],\n",
       " 'road_1_3_1_2': [],\n",
       " 'road_1_3_2_0': [],\n",
       " 'road_1_3_2_1': [],\n",
       " 'road_1_3_2_2': [],\n",
       " 'road_1_3_3_0': [],\n",
       " 'road_1_3_3_1': [],\n",
       " 'road_1_3_3_2': [],\n",
       " 'road_1_4_3_0': ['flow_17_0', 'flow_17_1', 'flow_17_2', 'flow_17_3'],\n",
       " 'road_1_4_3_1': ['flow_7_0', 'flow_7_1', 'flow_7_2', 'flow_7_3'],\n",
       " 'road_1_4_3_2': [],\n",
       " 'road_2_0_1_0': [],\n",
       " 'road_2_0_1_1': ['flow_8_0', 'flow_8_1', 'flow_8_2', 'flow_8_3'],\n",
       " 'road_2_0_1_2': [],\n",
       " 'road_2_1_0_0': [],\n",
       " 'road_2_1_0_1': [],\n",
       " 'road_2_1_0_2': [],\n",
       " 'road_2_1_1_0': [],\n",
       " 'road_2_1_1_1': [],\n",
       " 'road_2_1_1_2': [],\n",
       " 'road_2_1_2_0': [],\n",
       " 'road_2_1_2_1': [],\n",
       " 'road_2_1_2_2': [],\n",
       " 'road_2_1_3_0': [],\n",
       " 'road_2_1_3_1': [],\n",
       " 'road_2_1_3_2': [],\n",
       " 'road_2_2_0_0': [],\n",
       " 'road_2_2_0_1': [],\n",
       " 'road_2_2_0_2': [],\n",
       " 'road_2_2_1_0': [],\n",
       " 'road_2_2_1_1': [],\n",
       " 'road_2_2_1_2': [],\n",
       " 'road_2_2_2_0': [],\n",
       " 'road_2_2_2_1': [],\n",
       " 'road_2_2_2_2': [],\n",
       " 'road_2_2_3_0': [],\n",
       " 'road_2_2_3_1': [],\n",
       " 'road_2_2_3_2': [],\n",
       " 'road_2_3_0_0': [],\n",
       " 'road_2_3_0_1': [],\n",
       " 'road_2_3_0_2': [],\n",
       " 'road_2_3_1_0': [],\n",
       " 'road_2_3_1_1': [],\n",
       " 'road_2_3_1_2': [],\n",
       " 'road_2_3_2_0': [],\n",
       " 'road_2_3_2_1': [],\n",
       " 'road_2_3_2_2': [],\n",
       " 'road_2_3_3_0': [],\n",
       " 'road_2_3_3_1': [],\n",
       " 'road_2_3_3_2': [],\n",
       " 'road_2_4_3_0': [],\n",
       " 'road_2_4_3_1': ['flow_9_0', 'flow_9_1', 'flow_9_2', 'flow_9_3'],\n",
       " 'road_2_4_3_2': [],\n",
       " 'road_3_0_1_0': ['flow_19_0', 'flow_19_1', 'flow_19_2', 'flow_19_3'],\n",
       " 'road_3_0_1_1': ['flow_10_0', 'flow_10_1', 'flow_10_2', 'flow_10_3'],\n",
       " 'road_3_0_1_2': [],\n",
       " 'road_3_1_0_0': [],\n",
       " 'road_3_1_0_1': [],\n",
       " 'road_3_1_0_2': [],\n",
       " 'road_3_1_1_0': [],\n",
       " 'road_3_1_1_1': [],\n",
       " 'road_3_1_1_2': [],\n",
       " 'road_3_1_2_0': [],\n",
       " 'road_3_1_2_1': [],\n",
       " 'road_3_1_2_2': [],\n",
       " 'road_3_1_3_0': [],\n",
       " 'road_3_1_3_1': [],\n",
       " 'road_3_1_3_2': [],\n",
       " 'road_3_2_0_0': [],\n",
       " 'road_3_2_0_1': [],\n",
       " 'road_3_2_0_2': [],\n",
       " 'road_3_2_1_0': [],\n",
       " 'road_3_2_1_1': [],\n",
       " 'road_3_2_1_2': [],\n",
       " 'road_3_2_2_0': [],\n",
       " 'road_3_2_2_1': [],\n",
       " 'road_3_2_2_2': [],\n",
       " 'road_3_2_3_0': [],\n",
       " 'road_3_2_3_1': [],\n",
       " 'road_3_2_3_2': [],\n",
       " 'road_3_3_0_0': [],\n",
       " 'road_3_3_0_1': [],\n",
       " 'road_3_3_0_2': [],\n",
       " 'road_3_3_1_0': [],\n",
       " 'road_3_3_1_1': [],\n",
       " 'road_3_3_1_2': [],\n",
       " 'road_3_3_2_0': [],\n",
       " 'road_3_3_2_1': [],\n",
       " 'road_3_3_2_2': [],\n",
       " 'road_3_3_3_0': [],\n",
       " 'road_3_3_3_1': [],\n",
       " 'road_3_3_3_2': [],\n",
       " 'road_3_4_3_0': [],\n",
       " 'road_3_4_3_1': ['flow_11_0', 'flow_11_1', 'flow_11_2', 'flow_11_3'],\n",
       " 'road_3_4_3_2': ['flow_15_0', 'flow_15_1', 'flow_15_2', 'flow_15_3'],\n",
       " 'road_4_1_2_0': [],\n",
       " 'road_4_1_2_1': ['flow_1_0', 'flow_1_1', 'flow_1_2', 'flow_1_3'],\n",
       " 'road_4_1_2_2': ['flow_18_0', 'flow_18_1', 'flow_18_2', 'flow_18_3'],\n",
       " 'road_4_2_2_0': [],\n",
       " 'road_4_2_2_1': ['flow_3_0', 'flow_3_1', 'flow_3_2', 'flow_3_3'],\n",
       " 'road_4_2_2_2': [],\n",
       " 'road_4_3_2_0': ['flow_14_0', 'flow_14_1', 'flow_14_2', 'flow_14_3'],\n",
       " 'road_4_3_2_1': ['flow_5_0', 'flow_5_1', 'flow_5_2', 'flow_5_3'],\n",
       " 'road_4_3_2_2': []}"
      ]
     },
     "execution_count": 3,
     "metadata": {},
     "output_type": "execute_result"
    }
   ],
   "execution_count": 3
  },
  {
   "metadata": {
    "ExecuteTime": {
     "end_time": "2024-10-06T16:26:30.303307Z",
     "start_time": "2024-10-06T16:26:30.293886Z"
    }
   },
   "cell_type": "code",
   "source": [
    "random_car = env.get_vehicles()[0]\n",
    "env.get_vehicle_info(random_car)"
   ],
   "id": "43dc77973a5ca4e8",
   "outputs": [
    {
     "data": {
      "text/plain": [
       "{'distance': '16.000000',\n",
       " 'drivable': 'road_3_0_1_1',\n",
       " 'intersection': 'intersection_3_1',\n",
       " 'road': 'road_3_0_1',\n",
       " 'route': 'road_3_0_1 road_3_1_1 road_3_2_1 road_3_3_1 ',\n",
       " 'running': '1',\n",
       " 'speed': '8.000000'}"
      ]
     },
     "execution_count": 4,
     "metadata": {},
     "output_type": "execute_result"
    }
   ],
   "execution_count": 4
  },
  {
   "metadata": {
    "ExecuteTime": {
     "end_time": "2024-10-06T16:26:30.433252Z",
     "start_time": "2024-10-06T16:26:30.403811Z"
    }
   },
   "cell_type": "code",
   "source": [
    "with open(config_path, 'r') as cf:\n",
    "    conf = json.load(cf)\n",
    "roadnet_path = conf.get('dir') + conf.get('roadnetFile')\n",
    "\n",
    "with open(roadnet_path, 'r') as rf:\n",
    "    roadnet = json.load(rf)\n",
    "real_intersect = [x for x in roadnet.get('intersections') if x['virtual']==False] # exclude inteserctions on borders\n",
    "light_phases = real_intersect[0].get('trafficLight').get('lightphases') # retrieve actions\n",
    "id_intersect = real_intersect[0].get('id')\n",
    "print(id_intersect)\n",
    "light_phases"
   ],
   "id": "cb5dc04c6cf3ba07",
   "outputs": [
    {
     "name": "stdout",
     "output_type": "stream",
     "text": [
      "intersection_1_1\n"
     ]
    },
    {
     "data": {
      "text/plain": [
       "[{'time': 5, 'availableRoadLinks': [10, 2, 3, 6]},\n",
       " {'time': 30, 'availableRoadLinks': [0, 2, 3, 6, 7, 10]},\n",
       " {'time': 30, 'availableRoadLinks': [2, 3, 4, 6, 10, 11]},\n",
       " {'time': 30, 'availableRoadLinks': [1, 2, 3, 6, 8, 10]},\n",
       " {'time': 30, 'availableRoadLinks': [2, 3, 5, 6, 9, 10]},\n",
       " {'time': 30, 'availableRoadLinks': [0, 1, 2, 3, 6, 10]},\n",
       " {'time': 30, 'availableRoadLinks': [2, 3, 6, 7, 8, 10]},\n",
       " {'time': 30, 'availableRoadLinks': [2, 3, 4, 5, 6, 10]},\n",
       " {'time': 30, 'availableRoadLinks': [2, 3, 6, 9, 10, 11]}]"
      ]
     },
     "execution_count": 5,
     "metadata": {},
     "output_type": "execute_result"
    }
   ],
   "execution_count": 5
  },
  {
   "metadata": {
    "ExecuteTime": {
     "end_time": "2024-10-06T16:26:31.846754Z",
     "start_time": "2024-10-06T16:26:30.493259Z"
    }
   },
   "cell_type": "code",
   "source": [
    "# change traffic lights' lights\n",
    "for action in range(len(light_phases)):\n",
    "    env.set_tl_phase(id_intersect, action)\n",
    "    for i in range(50):\n",
    "        env.next_step()"
   ],
   "id": "3fda218a664978b",
   "outputs": [],
   "execution_count": 6
  },
  {
   "metadata": {
    "ExecuteTime": {
     "end_time": "2024-10-06T16:26:31.885708Z",
     "start_time": "2024-10-06T16:26:31.878081Z"
    }
   },
   "cell_type": "code",
   "source": [
    "# save snapshot in archive object or file\n",
    "# archive = env.snapshot()\n",
    "# archive.dump(\"snapshot.json\")"
   ],
   "id": "14a814280c6955dd",
   "outputs": [],
   "execution_count": 7
  },
  {
   "metadata": {
    "ExecuteTime": {
     "end_time": "2024-10-06T16:26:31.945479Z",
     "start_time": "2024-10-06T16:26:31.939057Z"
    }
   },
   "cell_type": "code",
   "source": [
    "# retrieve snapshot from archive or file\n",
    "# env.load(archive)\n",
    "# env.load_from_file(\"examples/snapshot.json\")"
   ],
   "id": "be7f08bca7120bb1",
   "outputs": [],
   "execution_count": 8
  },
  {
   "metadata": {
    "ExecuteTime": {
     "end_time": "2024-10-06T17:17:54.625644Z",
     "start_time": "2024-10-06T17:17:54.136359Z"
    }
   },
   "cell_type": "code",
   "source": [
    "# visualize CityFlow\n",
    "# webbrowser.open('file://' + os.path.realpath(\"index.html\"))"
   ],
   "id": "e0d08a9a521abb27",
   "outputs": [],
   "execution_count": 21
  },
  {
   "metadata": {},
   "cell_type": "markdown",
   "source": "## CityFlow Env",
   "id": "41bc5838c0140a99"
  },
  {
   "metadata": {
    "ExecuteTime": {
     "end_time": "2024-10-29T18:24:39.256348Z",
     "start_time": "2024-10-29T18:24:39.024384Z"
    }
   },
   "cell_type": "code",
   "source": [
    "import json\n",
    "from rl_env import World"
   ],
   "id": "b6f3eed1fd160b20",
   "outputs": [],
   "execution_count": 1
  },
  {
   "metadata": {
    "ExecuteTime": {
     "end_time": "2024-10-29T18:24:39.303830Z",
     "start_time": "2024-10-29T18:24:39.277498Z"
    }
   },
   "cell_type": "code",
   "source": [
    "config_path = \"data/2024-10-06_19-26/cityflow1x2.json\"\n",
    "config = json.load(open(config_path))\n",
    "cf = World(config_path)"
   ],
   "id": "1e070d7eff6ab807",
   "outputs": [
    {
     "name": "stdout",
     "output_type": "stream",
     "text": [
      "building world...\n",
      "creating intersections...\n",
      "intersections created.\n",
      "parsing roads...\n",
      "roads parsed.\n",
      "world built.\n"
     ]
    }
   ],
   "execution_count": 2
  },
  {
   "metadata": {
    "ExecuteTime": {
     "end_time": "2024-10-29T18:24:39.599365Z",
     "start_time": "2024-10-29T18:24:39.557871Z"
    }
   },
   "cell_type": "code",
   "source": [
    "for i in range(50):\n",
    "    cf.step([0,0])"
   ],
   "id": "3da89a4ad93c1e5",
   "outputs": [],
   "execution_count": 3
  },
  {
   "metadata": {
    "ExecuteTime": {
     "end_time": "2024-10-29T18:24:39.703280Z",
     "start_time": "2024-10-29T18:24:39.677745Z"
    }
   },
   "cell_type": "code",
   "source": [
    "for i in range(10):\n",
    "    cf.step([1,1,])"
   ],
   "id": "57203b6d005aea87",
   "outputs": [],
   "execution_count": 4
  },
  {
   "metadata": {
    "ExecuteTime": {
     "end_time": "2024-10-29T18:24:42.151135Z",
     "start_time": "2024-10-29T18:24:42.109130Z"
    }
   },
   "cell_type": "code",
   "source": [
    "for i in range(10):\n",
    "    cf.step([2,2])\n",
    "cf.get_cur_phase()"
   ],
   "id": "5dd3e5d0ad323f9f",
   "outputs": [
    {
     "data": {
      "text/plain": [
       "[2, 2]"
      ]
     },
     "execution_count": 5,
     "metadata": {},
     "output_type": "execute_result"
    }
   ],
   "execution_count": 5
  },
  {
   "metadata": {},
   "cell_type": "markdown",
   "source": "## CityFlow Agents",
   "id": "ed19586163267e04"
  },
  {
   "metadata": {
    "ExecuteTime": {
     "end_time": "2024-10-30T15:30:11.133782Z",
     "start_time": "2024-10-30T15:30:11.102594Z"
    }
   },
   "cell_type": "code",
   "source": [
    "import json\n",
    "from rl_env import World\n",
    "from rl_agents import RLAgent"
   ],
   "id": "e2803b430af56959",
   "outputs": [],
   "execution_count": 16
  },
  {
   "metadata": {
    "ExecuteTime": {
     "end_time": "2024-10-30T15:30:12.126730Z",
     "start_time": "2024-10-30T15:30:12.104308Z"
    }
   },
   "cell_type": "code",
   "source": [
    "config_path = \"data/2024-10-06_19-26/cityflow1x2.json\"\n",
    "config = json.load(open(config_path))\n",
    "cf = World(config_path)"
   ],
   "id": "31f789acc8e607e7",
   "outputs": [
    {
     "name": "stdout",
     "output_type": "stream",
     "text": [
      "building world...\n",
      "creating intersections...\n",
      "intersections created.\n",
      "parsing roads...\n",
      "roads parsed.\n",
      "world built.\n"
     ]
    }
   ],
   "execution_count": 17
  },
  {
   "metadata": {},
   "cell_type": "markdown",
   "source": "### RLAgent",
   "id": "e512eee43d749360"
  },
  {
   "metadata": {
    "ExecuteTime": {
     "end_time": "2024-10-30T15:30:14.558087Z",
     "start_time": "2024-10-30T15:30:14.525227Z"
    }
   },
   "cell_type": "code",
   "source": [
    "rl_agents = []\n",
    "for agent in cf.intersection_ids:\n",
    "    rl_agents.append(RLAgent(cf, agent))\n",
    "\n",
    "print(rl_agents[0].ob_generator, rl_agents[0].ob_generator.fns)\n",
    "print(rl_agents[0].reward_generator, rl_agents[0].reward_generator.fns)\n",
    "print(rl_agents[0].queue, rl_agents[0].queue.fns)\n",
    "print(rl_agents[0].delay, rl_agents[0].delay.fns)\n",
    "print(rl_agents[0].action_space)\n",
    "print(rl_agents[0].phase_generator)"
   ],
   "id": "2a9943b003221380",
   "outputs": [
    {
     "name": "stdout",
     "output_type": "stream",
     "text": [
      "building RLAgent intersection_1_1...\n",
      "building RLAgent intersection_2_1...\n",
      "<generator.lane_vehicle.LaneVehicleGenerator object at 0x7587c35de8c0> ['lane_count']\n",
      "<generator.lane_vehicle.LaneVehicleGenerator object at 0x7587c35df010> ['lane_waiting_count']\n",
      "<generator.lane_vehicle.LaneVehicleGenerator object at 0x7587c35dd210> ['lane_waiting_count']\n",
      "<generator.lane_vehicle.LaneVehicleGenerator object at 0x7587c35dd3f0> ['lane_delay']\n",
      "Discrete(9)\n",
      "<generator.intersection_phase.IntersectionPhaseGenerator object at 0x7587c35dcd90>\n"
     ]
    }
   ],
   "execution_count": 18
  },
  {
   "metadata": {
    "ExecuteTime": {
     "end_time": "2024-10-30T15:30:17.716466Z",
     "start_time": "2024-10-30T15:30:17.700297Z"
    }
   },
   "cell_type": "code",
   "source": [
    "print(rl_agents[0].phase_generator.phase, rl_agents[1].phase_generator.phase)\n",
    "\n",
    "cf.step([1, 2])\n",
    "post_agents = []\n",
    "for agent in cf.intersection_ids:\n",
    "    post_agents.append(RLAgent(cf, agent))\n",
    "print(rl_agents[0].phase_generator.phase, post_agents[0].phase_generator.phase)\n",
    "print(rl_agents[1].phase_generator.phase, post_agents[1].phase_generator.phase)"
   ],
   "id": "caf3f2b687da21ee",
   "outputs": [
    {
     "name": "stdout",
     "output_type": "stream",
     "text": [
      "0 0\n",
      "building RLAgent intersection_1_1...\n",
      "building RLAgent intersection_2_1...\n",
      "0 1\n",
      "0 2\n"
     ]
    }
   ],
   "execution_count": 19
  },
  {
   "metadata": {},
   "cell_type": "code",
   "outputs": [],
   "execution_count": null,
   "source": "",
   "id": "59a68918b8f05614"
  }
 ],
 "metadata": {
  "kernelspec": {
   "display_name": "Python 3",
   "language": "python",
   "name": "python3"
  },
  "language_info": {
   "codemirror_mode": {
    "name": "ipython",
    "version": 2
   },
   "file_extension": ".py",
   "mimetype": "text/x-python",
   "name": "python",
   "nbconvert_exporter": "python",
   "pygments_lexer": "ipython2",
   "version": "2.7.6"
  }
 },
 "nbformat": 4,
 "nbformat_minor": 5
}
